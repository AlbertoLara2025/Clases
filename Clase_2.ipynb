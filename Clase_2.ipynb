{
  "nbformat": 4,
  "nbformat_minor": 0,
  "metadata": {
    "colab": {
      "provenance": [],
      "authorship_tag": "ABX9TyNDlzHaPyhTO9sNTh5GWkcJ",
      "include_colab_link": true
    },
    "kernelspec": {
      "name": "python3",
      "display_name": "Python 3"
    },
    "language_info": {
      "name": "python"
    }
  },
  "cells": [
    {
      "cell_type": "markdown",
      "metadata": {
        "id": "view-in-github",
        "colab_type": "text"
      },
      "source": [
        "<a href=\"https://colab.research.google.com/github/AlbertoLara2025/Clases/blob/main/Clase_2.ipynb\" target=\"_parent\"><img src=\"https://colab.research.google.com/assets/colab-badge.svg\" alt=\"Open In Colab\"/></a>"
      ]
    },
    {
      "cell_type": "code",
      "execution_count": 7,
      "metadata": {
        "colab": {
          "base_uri": "https://localhost:8080/"
        },
        "id": "zPJlJOmZ2rkY",
        "outputId": "4e30eee4-0922-4f80-c689-fd81c28b0517"
      },
      "outputs": [
        {
          "output_type": "stream",
          "name": "stdout",
          "text": [
            "Hola mi nombre es Alberto, estoy empezando a programar y es nuevo y algo confuso\n"
          ]
        }
      ],
      "source": [
        "nombre =\"Alberto\"\n",
        "print (f\"Hola mi nombre es {nombre}, estoy empezando a programar y es nuevo y algo confuso\")"
      ]
    },
    {
      "cell_type": "code",
      "source": [
        "edades = [25, 30, 22, 40, 29]\n",
        "print(f\"Edad máxima: {max(edades)}\")\n",
        "print(f\"Edad mínima: {min(edades)}\")\n",
        "\n",
        "personas = {\"Ana\": 28, \"Luis\": 34, \"Carla\": 22, \"Jorge\": 41}\n",
        "for nombre, edad in personas.items():\n",
        "  if edad > 30:\n",
        "    print(f\"{nombre} tiene {edad} años\")"
      ],
      "metadata": {
        "colab": {
          "base_uri": "https://localhost:8080/"
        },
        "id": "BhOvpLsa2vA1",
        "outputId": "379fb05a-db74-4c93-8195-ed676514b355"
      },
      "execution_count": 8,
      "outputs": [
        {
          "output_type": "stream",
          "name": "stdout",
          "text": [
            "Edad máxima: 40\n",
            "Edad mínima: 22\n"
          ]
        }
      ]
    },
    {
      "cell_type": "code",
      "source": [
        "personas = {\"Ana\": 28, \"Luis\": 34, \"Carla\": 22, \"Jorge\": 41}\n",
        "for nombre, edad in personas.items():\n",
        "  if edad > 30:\n",
        "    print(f\"{nombre} tiene {edad} años\")"
      ],
      "metadata": {
        "colab": {
          "base_uri": "https://localhost:8080/"
        },
        "id": "62RdHi1o943D",
        "outputId": "f6742365-45a4-4fcc-def7-f690bed92c97"
      },
      "execution_count": 11,
      "outputs": [
        {
          "output_type": "stream",
          "name": "stdout",
          "text": [
            "Luis tiene 34 años\n",
            "Jorge tiene 41 años\n"
          ]
        }
      ]
    },
    {
      "cell_type": "code",
      "source": [
        "nombre = input(\"Ingresa tu nombre\")"
      ],
      "metadata": {
        "colab": {
          "base_uri": "https://localhost:8080/"
        },
        "id": "i3AaEWNI_SwX",
        "outputId": "51fa0314-61df-4bb1-bed9-6587bca36fd1"
      },
      "execution_count": 21,
      "outputs": [
        {
          "name": "stdout",
          "output_type": "stream",
          "text": [
            "Ingresa tu nombreJose\n"
          ]
        }
      ]
    },
    {
      "cell_type": "markdown",
      "source": [],
      "metadata": {
        "id": "U-oUqxeI_kWm"
      }
    },
    {
      "cell_type": "code",
      "source": [
        "print({nombre})"
      ],
      "metadata": {
        "colab": {
          "base_uri": "https://localhost:8080/"
        },
        "id": "E5YBciLf_pny",
        "outputId": "fd2abc60-aca1-4ec0-8d7f-98561ea10e85"
      },
      "execution_count": 19,
      "outputs": [
        {
          "output_type": "stream",
          "name": "stdout",
          "text": [
            "{1239.21}\n"
          ]
        }
      ]
    },
    {
      "cell_type": "code",
      "source": [
        "nombre = 1239.21"
      ],
      "metadata": {
        "id": "r6ZnKY5KALW7"
      },
      "execution_count": 15,
      "outputs": []
    },
    {
      "cell_type": "code",
      "source": [
        "print(nombre)"
      ],
      "metadata": {
        "colab": {
          "base_uri": "https://localhost:8080/"
        },
        "id": "cIGPyl_iASEi",
        "outputId": "f37eb65f-5af5-43c6-9ab4-481a7893da80"
      },
      "execution_count": 22,
      "outputs": [
        {
          "output_type": "stream",
          "name": "stdout",
          "text": [
            "Jose\n"
          ]
        }
      ]
    },
    {
      "cell_type": "code",
      "source": [
        "lista_de_nombres = \"\"\"\n",
        "1.  Hugo\n",
        "2.  Martín\n",
        "3.  Lucas\n",
        "4.  Mateo\n",
        "5.  Leo\n",
        "6.  Daniel\n",
        "7.  Alejandro\n",
        "8.  Pablo\n",
        "9.  Manuel\n",
        "10.  Álvaro\n",
        "11.  Adrián\n",
        "12.  David\n",
        "13.  Mario\n",
        "\"\"\""
      ],
      "metadata": {
        "id": "EBjyqjJiBBUv"
      },
      "execution_count": 23,
      "outputs": []
    },
    {
      "cell_type": "code",
      "source": [
        "class LimpiadorTexto:\n",
        "  def__init__(self,texto_limpiar):\n",
        "    self.texto = texto_limpiar\n",
        "    self.texto_limpio = []\n",
        "\n",
        "    def split_texto(self):\n",
        "      self.texto = self.texto.split(\"\\n\")\n",
        "\n",
        "    def _limpiador_de_texto(self,text):\n",
        "      if text != \"\":\n",
        "        solo_nombre = text.split(\"  \")[1]\n",
        "        solo_nombre_no_spaces = solo_nombre.strip().lower()\n",
        "        self.texto_limpio.append(solo_nombre_no_spaces)\n",
        "\n",
        "    def limpiar_all_text(self):\n",
        "      self.split_texto()\n",
        "      for text in self.texto:\n",
        "        self._limpiador_de_texto(text)\n",
        "      return self.texto_limpio\n"
      ],
      "metadata": {
        "id": "lkVCKjdOIngY"
      },
      "execution_count": null,
      "outputs": []
    },
    {
      "cell_type": "code",
      "source": [
        "def es_par(num):\n",
        "  return num % 2 == 0\n",
        "\n",
        "print(es_par(56))  # True"
      ],
      "metadata": {
        "colab": {
          "base_uri": "https://localhost:8080/"
        },
        "id": "vHdnnT-rWZKB",
        "outputId": "fdf023b9-0c97-4115-d99f-0250827b9e58"
      },
      "execution_count": 27,
      "outputs": [
        {
          "output_type": "stream",
          "name": "stdout",
          "text": [
            "True\n"
          ]
        }
      ]
    },
    {
      "cell_type": "code",
      "source": [
        "def contar_positivos(lista):\n",
        "  return sum(1 for n in lista if n > 0)\n",
        "\n",
        "print(contar_positivos([-1,2,5,-3,0,7]))"
      ],
      "metadata": {
        "colab": {
          "base_uri": "https://localhost:8080/"
        },
        "id": "NLPe7qLIWhdm",
        "outputId": "d97eccf1-7ac5-4ab5-e6a3-05b58f6aebc1"
      },
      "execution_count": 28,
      "outputs": [
        {
          "output_type": "stream",
          "name": "stdout",
          "text": [
            "3\n"
          ]
        }
      ]
    },
    {
      "cell_type": "code",
      "source": [
        "class Persona:\n",
        "    def __init__(self, nombre, edad):\n",
        "        self.nombre = nombre\n",
        "        self.edad = edad\n",
        "\n",
        "    def saludar(self):\n",
        "        print(f\"Hola, soy {self.nombre} y tengo {self.edad} años.\")\n",
        "\n",
        "juan = Persona(\"Juan\", 30)\n",
        "juan.saludar()"
      ],
      "metadata": {
        "colab": {
          "base_uri": "https://localhost:8080/"
        },
        "id": "swXsAwbMjrSY",
        "outputId": "dde18676-f079-4bb6-8283-f7bd3a2dc75b"
      },
      "execution_count": 56,
      "outputs": [
        {
          "output_type": "stream",
          "name": "stdout",
          "text": [
            "Hola, soy Juan y tengo 30 años.\n"
          ]
        }
      ]
    },
    {
      "cell_type": "code",
      "source": [
        "class Persona:\n",
        "    def __init__(self, nombre, edad):\n",
        "        self.nombre = nombre\n",
        "        self.edad = edad\n",
        "\n",
        "    def saludar(self):\n",
        "        print(f\"Hola, soy {self.nombre} y tengo {self.edad} años.\")\n",
        "juan = Persona(\"Juan\", 30)\n",
        "juan.saludar()"
      ],
      "metadata": {
        "colab": {
          "base_uri": "https://localhost:8080/"
        },
        "id": "HKefZtBXjvfn",
        "outputId": "30d5a510-34fb-4351-936d-f1f26cf125ed"
      },
      "execution_count": 63,
      "outputs": [
        {
          "output_type": "stream",
          "name": "stdout",
          "text": [
            "Hola, soy Juan y tengo 30 años.\n"
          ]
        }
      ]
    },
    {
      "cell_type": "code",
      "source": [
        "class Producto:\n",
        "  def __init__(self, nombre, precio, categoria):\n",
        "    self.nombre = nombre\n",
        "    self.precio = precio\n",
        "    self.categoria = categoria\n",
        "\n",
        "  def mostrar_informacion(self):\n",
        "    return f\"{self.nombre} ${self.precio} -Categoría: {self.categoria}\"\n",
        "\n",
        "p = Producto(\"Notebook\", 3500, \"electrónica\")\n",
        "print(p.mostrar_informacion())"
      ],
      "metadata": {
        "colab": {
          "base_uri": "https://localhost:8080/"
        },
        "id": "cf9VPGwckebp",
        "outputId": "cc2dcc59-3b1d-4222-d571-02957a866bbe"
      },
      "execution_count": 67,
      "outputs": [
        {
          "output_type": "stream",
          "name": "stdout",
          "text": [
            "Notebook $3500 -Categoría: electrónica\n"
          ]
        }
      ]
    },
    {
      "cell_type": "code",
      "source": [
        "a = [1,2,3]\n",
        "b = a\n",
        "\n",
        "b.append(4)\n",
        "\n",
        "print(\"a:\", a)\n",
        "print(\"b:\", b)\n",
        "\n",
        "print(\"¿a y b son el mismo objeto?\", a is b)"
      ],
      "metadata": {
        "colab": {
          "base_uri": "https://localhost:8080/"
        },
        "id": "GuyrPttgmd6y",
        "outputId": "5e63b631-c00a-4185-d5bc-795f9697a11a"
      },
      "execution_count": 69,
      "outputs": [
        {
          "output_type": "stream",
          "name": "stdout",
          "text": [
            "a: [1, 2, 3, 4]\n",
            "b: [1, 2, 3, 4]\n",
            "¿a y b son el mismo objeto? True\n"
          ]
        }
      ]
    },
    {
      "cell_type": "code",
      "source": [
        "# Ahora hacemos una copia real de la lista\n",
        "a = [1, 2, 3]\n",
        "b = a.copy()  # o list(a)\n",
        "\n",
        "b.append(4)\n",
        "\n",
        "print(\"a:\", a)\n",
        "print(\"b:\", b)\n",
        "print(\"¿a y b son el mismo objeto?\", a is b)"
      ],
      "metadata": {
        "colab": {
          "base_uri": "https://localhost:8080/"
        },
        "id": "hTwi1CelnHps",
        "outputId": "53b42929-dfcc-442f-faba-fc339c4f65e1"
      },
      "execution_count": 70,
      "outputs": [
        {
          "output_type": "stream",
          "name": "stdout",
          "text": [
            "a: [1, 2, 3]\n",
            "b: [1, 2, 3, 4]\n",
            "¿a y b son el mismo objeto? False\n"
          ]
        }
      ]
    },
    {
      "cell_type": "code",
      "source": [
        "class Caja:\n",
        "  def __init__ (self, contenido):\n",
        "    self.contenido = contenido\n",
        "\n",
        "c1 = Caja(\"gatito\")\n",
        "c2 = c1\n",
        "\n",
        "c2.contenido = \"perrito\"\n",
        "\n",
        "print(\"Contenido de c1:\", c1.contenido)\n",
        "print(\"¿c1 y c2 son el mismo objeto?\", c1 is c2)"
      ],
      "metadata": {
        "colab": {
          "base_uri": "https://localhost:8080/"
        },
        "id": "dzs-ZgRLtMeG",
        "outputId": "3ccde000-ee26-4b74-b55a-7b0ec6c32526"
      },
      "execution_count": 72,
      "outputs": [
        {
          "output_type": "stream",
          "name": "stdout",
          "text": [
            "Contenido de c1: perrito\n",
            "¿c1 y c2 son el mismo objeto? True\n"
          ]
        }
      ]
    },
    {
      "cell_type": "code",
      "source": [
        "class Alumno:\n",
        "  def __init__(self, nombre, calificacion,promedio):\n",
        "    self.nombre = nombre\n",
        "    self.calificacion = calificacion\n",
        "    self.promedio = promedio\n",
        "\n",
        "  def mostrar_informacion(self):\n",
        "    return f\"Nombre: {self.nombre} - Calificación: {self.calificacion} - Promedio: {self.promedio}\"\n",
        "\n",
        "alumno1 = Alumno(\"Juan\", 85, 78)\n",
        "alumno2 = Alumno(\"María\", 92, 88)\n",
        "\n",
        "print (alumno1.mostrar_informacion())\n"
      ],
      "metadata": {
        "colab": {
          "base_uri": "https://localhost:8080/"
        },
        "id": "O346Z8MGtux2",
        "outputId": "f83781fb-9075-4dc0-89f5-51895cda21f8"
      },
      "execution_count": 76,
      "outputs": [
        {
          "output_type": "stream",
          "name": "stdout",
          "text": [
            "Nombre: Juan - Calificación: 85 - Promedio: 78\n"
          ]
        }
      ]
    }
  ]
}